{
 "cells": [
  {
   "cell_type": "code",
   "execution_count": 1,
   "id": "3f36493c",
   "metadata": {},
   "outputs": [],
   "source": [
    "import pandas as pd\n",
    "import os"
   ]
  },
  {
   "cell_type": "code",
   "execution_count": 20,
   "id": "d33b16ac",
   "metadata": {},
   "outputs": [],
   "source": [
    "folder_data = [i for i in os.listdir(r'C:\\Users\\aimbe\\OneDrive\\Документы\\GitHub\\karpov_courses')] # and list comprehension"
   ]
  },
  {
   "cell_type": "code",
   "execution_count": 21,
   "id": "cdfa7d52",
   "metadata": {},
   "outputs": [
    {
     "data": {
      "text/plain": [
       "['.git', 'Lesson 2', 'Lesson 3', 'Lesson 4', 'README.md']"
      ]
     },
     "execution_count": 21,
     "metadata": {},
     "output_type": "execute_result"
    }
   ],
   "source": [
    "folder_data"
   ]
  },
  {
   "cell_type": "code",
   "execution_count": 22,
   "id": "3286c8e7",
   "metadata": {},
   "outputs": [],
   "source": [
    "p = (r'C:\\Users\\aimbe\\OneDrive\\Документы\\GitHub\\karpov_courses\\Lesson 4\\for_training.txt')"
   ]
  },
  {
   "cell_type": "code",
   "execution_count": 25,
   "id": "3de5cc5f",
   "metadata": {},
   "outputs": [
    {
     "data": {
      "text/plain": [
       "['от 16.01.23\\tАктивы\\t\\t\\tРасходы\\t\\t\\tUSD\\t462,69\\n',\n",
       " '\\tФридом\\t 464\\xa0776,73 \\t\\tФутбол\\t 2\\xa0650,00 \\t\\t\\t\\n',\n",
       " '\\tКаспи\\t 71\\xa0029,00 \\t\\tАиме бургер\\t 4,200.00 \\t\\t\\t\\n',\n",
       " '\\t+ от папы\\t 20\\xa0000,00 \\t\\tАсан\\t 18,000.00 \\t\\t\\t\\n',\n",
       " '\\tстипендия\\t 86,300.00 \\t\\tТранспорт\\t 6,822.00 \\t\\t\\t\\n',\n",
       " '\\t\\t\\t\\tПродукты\\t 2,760.00 \\t\\t\\t\\n',\n",
       " '\\t\\t\\t\\tБагаж\\t 17,600.00 \\t\\t\\t\\n',\n",
       " '\\t\\t\\t\\tОбед\\t 8,790.00 \\t\\t\\t\\n',\n",
       " '\\t\\t\\t\\tКафе и перекусы\\t 8,320.00 \\t\\t\\t\\n',\n",
       " '\\t\\t\\t\\t*\\t 5,440.00 \\t\\t\\t\\n',\n",
       " '\\t\\t\\t\\tТима\\t 1,850.00 \\t\\t\\t\\n',\n",
       " '\\t\\t\\t\\tСтрижка\\t 6,000.00 \\t\\t\\t\\n',\n",
       " '\\t\\t\\t\\tСлучайные\\t 1,070.00 \\t\\t\\t\\n',\n",
       " '\\t\\t\\t\\tВ дом\\t 2,500.00 \\t\\t\\t\\n',\n",
       " '\\t\\t\\t\\tРазвлечения\\t 8,480.00 \\t\\t\\t\\n',\n",
       " '\\t\\t642\\xa0105,73\\t\\t\\t 91,832.00 \\t\\t\\t\\n']"
      ]
     },
     "execution_count": 25,
     "metadata": {},
     "output_type": "execute_result"
    }
   ],
   "source": [
    "open(p, encoding='utf-8').readlines() #using loops and conditions"
   ]
  },
  {
   "cell_type": "code",
   "execution_count": 26,
   "id": "8cd11cf5",
   "metadata": {},
   "outputs": [],
   "source": [
    "#as_type to_date"
   ]
  }
 ],
 "metadata": {
  "kernelspec": {
   "display_name": "Python 3 (ipykernel)",
   "language": "python",
   "name": "python3"
  },
  "language_info": {
   "codemirror_mode": {
    "name": "ipython",
    "version": 3
   },
   "file_extension": ".py",
   "mimetype": "text/x-python",
   "name": "python",
   "nbconvert_exporter": "python",
   "pygments_lexer": "ipython3",
   "version": "3.9.7"
  }
 },
 "nbformat": 4,
 "nbformat_minor": 5
}
