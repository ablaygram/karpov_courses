{
 "cells": [
  {
   "cell_type": "code",
   "execution_count": 1,
   "id": "757749a4",
   "metadata": {},
   "outputs": [],
   "source": [
    "import pandas as pd\n",
    "import numpy as np\n",
    "%matplotlib inline\n",
    "import matplotlib.pyplot as plt\n",
    "import seaborn as sns\n",
    "import plotly.express as px"
   ]
  },
  {
   "cell_type": "code",
   "execution_count": 2,
   "id": "a9d0232d",
   "metadata": {},
   "outputs": [],
   "source": [
    "sns.set(\n",
    "    font_scale=2,\n",
    "    style='whitegrid',\n",
    "    rc = {'figure.figsize':(20,7)}) #seaborn settings"
   ]
  },
  {
   "cell_type": "code",
   "execution_count": 3,
   "id": "a23303c8",
   "metadata": {},
   "outputs": [],
   "source": [
    "df = pd.read_csv(r'C:\\Users\\aimbe\\OneDrive\\Документы\\GitHub\\karpov_courses\\Lesson 6\\avocado_mean.csv')"
   ]
  },
  {
   "cell_type": "code",
   "execution_count": 4,
   "id": "6c64a523",
   "metadata": {},
   "outputs": [
    {
     "data": {
      "text/plain": [
       "AveragePrice    1.849321\n",
       "dtype: float64"
      ]
     },
     "execution_count": 4,
     "metadata": {},
     "output_type": "execute_result"
    }
   ],
   "source": [
    "df.rolling(3).mean().max() #another training"
   ]
  },
  {
   "cell_type": "code",
   "execution_count": 7,
   "id": "759aa3a2",
   "metadata": {},
   "outputs": [],
   "source": [
    "avocado_ewm = df.ewm(span=2)"
   ]
  },
  {
   "cell_type": "code",
   "execution_count": 9,
   "id": "057e0103",
   "metadata": {},
   "outputs": [],
   "source": [
    "delays = pd.read_csv(r'C:\\Users\\aimbe\\OneDrive\\Документы\\GitHub\\karpov_courses\\Lesson 6\\delays.csv')"
   ]
  },
  {
   "cell_type": "code",
   "execution_count": 18,
   "id": "ed437d7d",
   "metadata": {},
   "outputs": [],
   "source": [
    "delays.delay = pd.Series(delays.delay).str.replace('-','')"
   ]
  },
  {
   "cell_type": "code",
   "execution_count": 21,
   "id": "63334a63",
   "metadata": {},
   "outputs": [],
   "source": [
    "delays.delay = pd.to_timedelta(delays.delay)"
   ]
  },
  {
   "cell_type": "code",
   "execution_count": 23,
   "id": "4b6d0a44",
   "metadata": {},
   "outputs": [
    {
     "data": {
      "text/plain": [
       "client_id               int64\n",
       "company_id              int64\n",
       "delay         timedelta64[ns]\n",
       "revenue                 int64\n",
       "dtype: object"
      ]
     },
     "execution_count": 23,
     "metadata": {},
     "output_type": "execute_result"
    }
   ],
   "source": [
    "delays.dtypes"
   ]
  },
  {
   "cell_type": "code",
   "execution_count": null,
   "id": "81716817",
   "metadata": {},
   "outputs": [],
   "source": []
  }
 ],
 "metadata": {
  "kernelspec": {
   "display_name": "Python 3 (ipykernel)",
   "language": "python",
   "name": "python3"
  },
  "language_info": {
   "codemirror_mode": {
    "name": "ipython",
    "version": 3
   },
   "file_extension": ".py",
   "mimetype": "text/x-python",
   "name": "python",
   "nbconvert_exporter": "python",
   "pygments_lexer": "ipython3",
   "version": "3.9.7"
  }
 },
 "nbformat": 4,
 "nbformat_minor": 5
}
